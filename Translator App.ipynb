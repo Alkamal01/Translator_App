{
 "cells": [
  {
   "cell_type": "code",
   "execution_count": 1,
   "id": "fd3d0236",
   "metadata": {},
   "outputs": [],
   "source": [
    "from googletrans import Translator\n",
    "\n",
    "\n",
    "\n",
    "def translate(text, dest='en'):\n",
    "    \"\"\"\n",
    "    Translates given text to the given destination language code\n",
    "    \"\"\"\n",
    "    translator = Translator(service_urls=['translate.google.com'])\n",
    "    translation = translator.translate(text, dest=dest)\n",
    "    return translation.text\n"
   ]
  },
  {
   "cell_type": "code",
   "execution_count": 2,
   "id": "0010d4c9",
   "metadata": {},
   "outputs": [
    {
     "name": "stdout",
     "output_type": "stream",
     "text": [
      "¡Hola Mundo!\n",
      "Hi world!\n"
     ]
    }
   ],
   "source": [
    "# Translate 'Hello, world!' to Spanish\n",
    "print(translate('Hello, world!', 'es'))\n",
    "\n",
    "# Translate 'Bonjour le monde!' to English\n",
    "print(translate('Bonjour le monde!', 'en'))\n"
   ]
  },
  {
   "cell_type": "code",
   "execution_count": null,
   "id": "128fd1ae",
   "metadata": {},
   "outputs": [],
   "source": []
  }
 ],
 "metadata": {
  "kernelspec": {
   "display_name": "Python 3 (ipykernel)",
   "language": "python",
   "name": "python3"
  },
  "language_info": {
   "codemirror_mode": {
    "name": "ipython",
    "version": 3
   },
   "file_extension": ".py",
   "mimetype": "text/x-python",
   "name": "python",
   "nbconvert_exporter": "python",
   "pygments_lexer": "ipython3",
   "version": "3.9.13"
  }
 },
 "nbformat": 4,
 "nbformat_minor": 5
}
